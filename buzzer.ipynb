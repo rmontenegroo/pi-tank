{
 "cells": [
  {
   "cell_type": "code",
   "execution_count": 1,
   "id": "c9b5b20c-9db9-4373-b998-7c2962ab9538",
   "metadata": {},
   "outputs": [
    {
     "name": "stderr",
     "output_type": "stream",
     "text": [
      "/tmp/ipykernel_3379/852030097.py:7: RuntimeWarning: This channel is already in use, continuing anyway.  Use GPIO.setwarnings(False) to disable warnings.\n",
      "  GPIO.setup(BuzzerPin, GPIO.OUT)\n"
     ]
    }
   ],
   "source": [
    "import RPi.GPIO as GPIO\n",
    "import time\n",
    "\n",
    "BuzzerPin = 8\n",
    "\n",
    "GPIO.setmode(GPIO.BCM)\n",
    "GPIO.setup(BuzzerPin, GPIO.OUT) \n",
    "GPIO.setwarnings(False)\n",
    "\n",
    "bipes = 10\n",
    "\n",
    "while bipes > 0:\n",
    "    GPIO.output(BuzzerPin, GPIO.HIGH)\n",
    "    time.sleep(0.4)\n",
    "    GPIO.output(BuzzerPin, GPIO.LOW)\n",
    "    time.sleep(0.1)\n",
    "    bipes -= 1"
   ]
  },
  {
   "cell_type": "code",
   "execution_count": 2,
   "id": "1075935f-2e2f-4cda-bca9-9fe76fd31000",
   "metadata": {},
   "outputs": [],
   "source": [
    "GPIO.output(BuzzerPin, GPIO.HIGH)"
   ]
  }
 ],
 "metadata": {
  "kernelspec": {
   "display_name": "Python 3 (ipykernel)",
   "language": "python",
   "name": "python3"
  },
  "language_info": {
   "codemirror_mode": {
    "name": "ipython",
    "version": 3
   },
   "file_extension": ".py",
   "mimetype": "text/x-python",
   "name": "python",
   "nbconvert_exporter": "python",
   "pygments_lexer": "ipython3",
   "version": "3.9.2"
  }
 },
 "nbformat": 4,
 "nbformat_minor": 5
}
